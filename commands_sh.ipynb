{
  "nbformat": 4,
  "nbformat_minor": 0,
  "metadata": {
    "colab": {
      "provenance": [],
      "authorship_tag": "ABX9TyNvHCvBG8hLTkRjXKUlDpqQ",
      "include_colab_link": true
    },
    "kernelspec": {
      "name": "python3",
      "display_name": "Python 3"
    },
    "language_info": {
      "name": "python"
    }
  },
  "cells": [
    {
      "cell_type": "markdown",
      "metadata": {
        "id": "view-in-github",
        "colab_type": "text"
      },
      "source": [
        "<a href=\"https://colab.research.google.com/github/vengie/capstone_project/blob/main/commands_sh.ipynb\" target=\"_parent\"><img src=\"https://colab.research.google.com/assets/colab-badge.svg\" alt=\"Open In Colab\"/></a>"
      ]
    },
    {
      "cell_type": "code",
      "execution_count": 3,
      "metadata": {
        "colab": {
          "base_uri": "https://localhost:8080/",
          "height": 135
        },
        "id": "M91HsEgCU4Y6",
        "outputId": "3e00cd20-9fe1-470b-819c-60c8554d7efb"
      },
      "outputs": [
        {
          "output_type": "error",
          "ename": "SyntaxError",
          "evalue": "ignored",
          "traceback": [
            "\u001b[0;36m  File \u001b[0;32m\"<ipython-input-3-9eca013f7b96>\"\u001b[0;36m, line \u001b[0;32m2\u001b[0m\n\u001b[0;31m    sudo apt-get update\u001b[0m\n\u001b[0m         ^\u001b[0m\n\u001b[0;31mSyntaxError\u001b[0m\u001b[0;31m:\u001b[0m invalid syntax\n"
          ]
        }
      ],
      "source": [
        "# #update package lists\n",
        "# sudo apt-get update\n",
        "\n",
        "# # Install Python 3 pip\n",
        "# sudo apt install python3-pip\n",
        "\n",
        "# # Install Apache Airflow\n",
        "# pip install apache-airflow\n",
        "\n",
        "# # Install pandas\n",
        "# pip install pandas\n",
        "\n",
        "# # Install s3fs\n",
        "# pip install s3fs"
      ]
    },
    {
      "cell_type": "code",
      "source": [],
      "metadata": {
        "id": "FwxVsph-VIyZ"
      },
      "execution_count": null,
      "outputs": []
    }
  ]
}