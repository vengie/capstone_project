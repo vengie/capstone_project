{
  "nbformat": 4,
  "nbformat_minor": 0,
  "metadata": {
    "colab": {
      "provenance": [],
      "authorship_tag": "ABX9TyPohwspYljR8fpjJZm6fdS8",
      "include_colab_link": true
    },
    "kernelspec": {
      "name": "python3",
      "display_name": "Python 3"
    },
    "language_info": {
      "name": "python"
    }
  },
  "cells": [
    {
      "cell_type": "markdown",
      "metadata": {
        "id": "view-in-github",
        "colab_type": "text"
      },
      "source": [
        "<a href=\"https://colab.research.google.com/github/vengie/capstone_project/blob/main/etl_load_reference_data.ipynb\" target=\"_parent\"><img src=\"https://colab.research.google.com/assets/colab-badge.svg\" alt=\"Open In Colab\"/></a>"
      ]
    },
    {
      "cell_type": "code",
      "source": [
        "!pip install pyodbc"
      ],
      "metadata": {
        "colab": {
          "base_uri": "https://localhost:8080/"
        },
        "id": "MmlRJ-hgpTxZ",
        "outputId": "0d4b94b5-6de9-450a-f75d-926f1a94fa95"
      },
      "execution_count": null,
      "outputs": [
        {
          "output_type": "stream",
          "name": "stdout",
          "text": [
            "Collecting pyodbc\n",
            "  Downloading pyodbc-4.0.39-cp310-cp310-manylinux_2_17_x86_64.manylinux2014_x86_64.whl (343 kB)\n",
            "\u001b[?25l     \u001b[90m━━━━━━━━━━━━━━━━━━━━━━━━━━━━━━━━━━━━━━━━\u001b[0m \u001b[32m0.0/343.5 kB\u001b[0m \u001b[31m?\u001b[0m eta \u001b[36m-:--:--\u001b[0m\r\u001b[2K     \u001b[90m━━━━━━━━━━━━━━━━━━━━━━━━━━━━━━━━━━━━━━\u001b[0m \u001b[32m343.5/343.5 kB\u001b[0m \u001b[31m10.3 MB/s\u001b[0m eta \u001b[36m0:00:00\u001b[0m\n",
            "\u001b[?25hInstalling collected packages: pyodbc\n",
            "Successfully installed pyodbc-4.0.39\n"
          ]
        }
      ]
    },
    {
      "cell_type": "code",
      "execution_count": null,
      "metadata": {
        "id": "mINzvU2TetiE"
      },
      "outputs": [],
      "source": [
        "from email.mime.text import MIMEText\n",
        "from email.mime.application import MIMEApplication\n",
        "from email.mime.multipart import MIMEMultipart\n",
        "from email.mime.base import MIMEBase\n",
        "from email.message import EmailMessage\n",
        "from email import encoders\n",
        "import smtplib\n",
        "import os\n",
        "import json\n",
        "import requests\n",
        "import io\n",
        "\n",
        "#import needed libraries\n",
        "from sqlalchemy import create_engine\n",
        "import pyodbc\n",
        "import pandas as pd\n",
        "# this is imported from config folder\n",
        "#import config.email as eml\n"
      ]
    },
    {
      "cell_type": "code",
      "source": [
        "#config_url = 'https://raw.githubusercontent.com/vengie/capstone_project/main/config/config.json'\n",
        "\n",
        "#content = open(config_url)\n",
        "content = open('sample_data/config.json')\n",
        "config = json.load(content)\n",
        "email = config['local']\n",
        "password = config['pass']\n",
        "\n",
        "sender = 'admin@localmail.com'"
      ],
      "metadata": {
        "id": "fda2OxssfBqN"
      },
      "execution_count": null,
      "outputs": []
    },
    {
      "cell_type": "code",
      "source": [
        "def send_mail(to, subject, body):\n",
        "    message = MIMEMultipart()\n",
        "    message['Subject'] = subject\n",
        "    message['From'] = 'admin@localmail.com'\n",
        "    message['To'] = to\n",
        "\n",
        "    body_content = body\n",
        "    message.attach(MIMEText(body_content, \"html\"))\n",
        "    msg_body = message.as_string()\n",
        "\n",
        "    server = smtplib.SMTP('localhost')\n",
        "    server.login(email, password)\n",
        "    server.sendmail(sender, to, msg_body)\n",
        "    #\n",
        "    server.quit()"
      ],
      "metadata": {
        "id": "nBYfILyNlZWC"
      },
      "execution_count": null,
      "outputs": []
    },
    {
      "cell_type": "code",
      "source": [
        "#get password from environmnet var\n",
        "pwd = os.environ['PGPASS']\n",
        "uid = os.environ['PGUID']\n",
        "server = \"localhost\"\n",
        "db = \"AdventureWorks\"\n",
        "port = \"5432\"\n",
        "dir = r'\\\\YourPC\\Shared\\Data\\Accounts'\n",
        "to = 'youremail@domain.com"
      ],
      "metadata": {
        "id": "Csmw0rcmpjz_"
      },
      "execution_count": null,
      "outputs": []
    },
    {
      "cell_type": "code",
      "source": [
        "#extract data from sql server\n",
        "def extract():\n",
        "    try:\n",
        "        # starting directory\n",
        "        directory = dir\n",
        "        # iterate over files in the directory\n",
        "        for filename in os.listdir(directory):\n",
        "            #get filename without ext\n",
        "            file_wo_ext = os.path.splitext(filename)[0]\n",
        "            # only process excel files\n",
        "            if filename.endswith(\".xlsx\"):\n",
        "                f = os.path.join(directory, filename)\n",
        "                # checking if it is a file\n",
        "                if os.path.isfile(f):\n",
        "                    df = pd.read_excel(f)\n",
        "                    # call to load\n",
        "                    load(df, file_wo_ext)\n",
        "    except Exception as e:\n",
        "        eml.send_mail(to, \"File Upload, Data extract error: \", f\"Data extract error: File location {dir}\" + str(e))\n",
        "        print(\"Data extract error: \" + str(e))"
      ],
      "metadata": {
        "id": "dlqXvUHfpsZV"
      },
      "execution_count": null,
      "outputs": []
    },
    {
      "cell_type": "code",
      "source": [
        "#load data to postgres\n",
        "def load(df, tbl):\n",
        "    try:\n",
        "        rows_imported = 0\n",
        "        engine = create_engine(f'postgresql://{uid}:{pwd}@{server}:{port}/{db}')\n",
        "        print(f'importing rows {rows_imported} to {rows_imported + len(df)}... ')\n",
        "        # save df to postgres\n",
        "        df.to_sql(f\"stg_{tbl}\", engine, if_exists='replace', index=False)\n",
        "        rows_imported += len(df)\n",
        "        # add elapsed time to final print out\n",
        "        print(\"Data imported successful\")\n",
        "        eml.send_mail(to, \"File Uploaded, Data load successful: \", \"Data load notification for : \" + f\"stg_{tbl}\")\n",
        "    except Exception as e:\n",
        "        eml.send_mail(to, \"File Upload Data load error: \", f\"Data extract error: File location {dir}\"  + str(e))\n",
        "        print(\"Data load error: \" + str(e))\n",
        "\n",
        "try:\n",
        "    #call extract function\n",
        "    df = extract()\n",
        "except Exception as e:\n",
        "    eml.send_mail(to, \"File Upload, Data extract error: \", f\"Function call to file mapping, Data extract error: File location {dir}\" + str(e))\n",
        "    print(\"Error while extracting data: \" + str(e))"
      ],
      "metadata": {
        "id": "VGkk_9Fapv-B"
      },
      "execution_count": null,
      "outputs": []
    }
  ]
}